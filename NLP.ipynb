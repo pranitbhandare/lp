{
 "cells": [
  {
   "cell_type": "code",
   "execution_count": 1,
   "id": "76fca8b9-dfb8-4f38-8a10-b243e6c50b6c",
   "metadata": {},
   "outputs": [],
   "source": [
    "import nltk\n"
   ]
  },
  {
   "cell_type": "code",
   "execution_count": 2,
   "id": "d698361a-bda3-4eef-a0c9-4d7c51471a3f",
   "metadata": {},
   "outputs": [],
   "source": [
    "from nltk import sent_tokenize,word_tokenize\n",
    "from nltk.corpus import stopwords"
   ]
  },
  {
   "cell_type": "code",
   "execution_count": 3,
   "id": "60e162ed-3c53-4fb3-9690-7047c6d715a0",
   "metadata": {},
   "outputs": [],
   "source": [
    "stopwords=stopwords.words(\"english\")"
   ]
  },
  {
   "cell_type": "code",
   "execution_count": 4,
   "id": "646d28cf-5ac1-4973-8da3-fba45237ba8a",
   "metadata": {},
   "outputs": [],
   "source": [
    "sentence=\"I will walk 500 miles and I would walk 500 more, just to be the man who walks a thousand miles to fall down at your door\".lower()"
   ]
  },
  {
   "cell_type": "code",
   "execution_count": 5,
   "id": "157c8dbb-9cdc-4aa0-8ab8-393c33a6766f",
   "metadata": {},
   "outputs": [
    {
     "name": "stdout",
     "output_type": "stream",
     "text": [
      "i will walk 500 miles and i would walk 500 more, just to be the man who walks a thousand miles to fall down at your door\n"
     ]
    }
   ],
   "source": [
    "print(sentence)"
   ]
  },
  {
   "cell_type": "code",
   "execution_count": 6,
   "id": "e4fb112d-03dc-4a3c-b125-b890f2350f4c",
   "metadata": {},
   "outputs": [
    {
     "name": "stdout",
     "output_type": "stream",
     "text": [
      "['i', 'will', 'walk', '500', 'miles', 'and', 'i', 'would', 'walk', '500', 'more', ',', 'just', 'to', 'be', 'the', 'man', 'who', 'walks', 'a', 'thousand', 'miles', 'to', 'fall', 'down', 'at', 'your', 'door']\n"
     ]
    }
   ],
   "source": [
    "words=word_tokenize(sentence)\n",
    "print(words)"
   ]
  },
  {
   "cell_type": "code",
   "execution_count": 8,
   "id": "f3798ed4-bd3a-4a61-a793-e90d31baca76",
   "metadata": {},
   "outputs": [
    {
     "name": "stdout",
     "output_type": "stream",
     "text": [
      "['i will walk 500 miles and i would walk 500 more, just to be the man who walks a thousand miles to fall down at your door']\n"
     ]
    }
   ],
   "source": [
    "sent=sent_tokenize(sentence)\n",
    "print(sent)"
   ]
  },
  {
   "cell_type": "code",
   "execution_count": 11,
   "id": "cfc22786-2b6b-417c-8e3f-83a6cc612e55",
   "metadata": {},
   "outputs": [
    {
     "name": "stdout",
     "output_type": "stream",
     "text": [
      "['i', 'me', 'my', 'myself', 'we', 'our', 'ours', 'ourselves', 'you', \"you're\", \"you've\", \"you'll\", \"you'd\", 'your', 'yours', 'yourself', 'yourselves', 'he', 'him', 'his', 'himself', 'she', \"she's\", 'her', 'hers', 'herself', 'it', \"it's\", 'its', 'itself', 'they', 'them', 'their', 'theirs', 'themselves', 'what', 'which', 'who', 'whom', 'this', 'that', \"that'll\", 'these', 'those', 'am', 'is', 'are', 'was', 'were', 'be', 'been', 'being', 'have', 'has', 'had', 'having', 'do', 'does', 'did', 'doing', 'a', 'an', 'the', 'and', 'but', 'if', 'or', 'because', 'as', 'until', 'while', 'of', 'at', 'by', 'for', 'with', 'about', 'against', 'between', 'into', 'through', 'during', 'before', 'after', 'above', 'below', 'to', 'from', 'up', 'down', 'in', 'out', 'on', 'off', 'over', 'under', 'again', 'further', 'then', 'once', 'here', 'there', 'when', 'where', 'why', 'how', 'all', 'any', 'both', 'each', 'few', 'more', 'most', 'other', 'some', 'such', 'no', 'nor', 'not', 'only', 'own', 'same', 'so', 'than', 'too', 'very', 's', 't', 'can', 'will', 'just', 'don', \"don't\", 'should', \"should've\", 'now', 'd', 'll', 'm', 'o', 're', 've', 'y', 'ain', 'aren', \"aren't\", 'couldn', \"couldn't\", 'didn', \"didn't\", 'doesn', \"doesn't\", 'hadn', \"hadn't\", 'hasn', \"hasn't\", 'haven', \"haven't\", 'isn', \"isn't\", 'ma', 'mightn', \"mightn't\", 'mustn', \"mustn't\", 'needn', \"needn't\", 'shan', \"shan't\", 'shouldn', \"shouldn't\", 'wasn', \"wasn't\", 'weren', \"weren't\", 'won', \"won't\", 'wouldn', \"wouldn't\"]\n"
     ]
    }
   ],
   "source": [
    "print(stopwords)"
   ]
  },
  {
   "cell_type": "code",
   "execution_count": 15,
   "id": "d1b6f13a-6567-4c8a-bf47-72bffdf7c021",
   "metadata": {},
   "outputs": [],
   "source": [
    "for word in words:\n",
    "    if words in stopwords:\n",
    "        words.remove(word.lower())\n",
    "        "
   ]
  },
  {
   "cell_type": "code",
   "execution_count": 16,
   "id": "03283bee-f7f7-4aa6-8590-8b104f5fb23e",
   "metadata": {},
   "outputs": [
    {
     "name": "stdout",
     "output_type": "stream",
     "text": [
      "['i', 'will', 'walk', '500', 'miles', 'and', 'i', 'would', 'walk', '500', 'more', ',', 'just', 'to', 'be', 'the', 'man', 'who', 'walks', 'a', 'thousand', 'miles', 'to', 'fall', 'down', 'at', 'your', 'door']\n"
     ]
    }
   ],
   "source": [
    "print(words)"
   ]
  },
  {
   "cell_type": "code",
   "execution_count": 12,
   "id": "42ec47e8-4096-48e1-a723-796e3e503711",
   "metadata": {},
   "outputs": [],
   "source": [
    "from nltk import PorterStemmer\n",
    " "
   ]
  },
  {
   "cell_type": "code",
   "execution_count": null,
   "id": "c2bef892-1816-4e0c-9f91-adbeb831919a",
   "metadata": {},
   "outputs": [],
   "source": []
  },
  {
   "cell_type": "code",
   "execution_count": 13,
   "id": "2c6a5d59-fc5b-4246-97c3-818e2fcfa4e9",
   "metadata": {},
   "outputs": [],
   "source": [
    "stemmer=PorterStemmer()"
   ]
  },
  {
   "cell_type": "code",
   "execution_count": 17,
   "id": "b289b0ce-a963-4929-b043-a524aec33370",
   "metadata": {},
   "outputs": [
    {
     "name": "stdout",
     "output_type": "stream",
     "text": [
      "['i', 'will', 'walk', '500', 'miles', 'and', 'i', 'would', 'walk', '500', 'more', ',', 'just', 'to', 'be', 'the', 'man', 'who', 'walks', 'a', 'thousand', 'miles', 'to', 'fall', 'down', 'at', 'your', 'door']\n"
     ]
    }
   ],
   "source": [
    "print(words)"
   ]
  },
  {
   "cell_type": "code",
   "execution_count": 19,
   "id": "c78af451-b037-4722-b175-afcad82e8be4",
   "metadata": {},
   "outputs": [],
   "source": [
    "stemmer_tagger=[stemmer.stem(word) for word in words]"
   ]
  },
  {
   "cell_type": "code",
   "execution_count": 20,
   "id": "ea51d72b-e1da-496d-830a-50e4c97cb5d2",
   "metadata": {},
   "outputs": [
    {
     "name": "stdout",
     "output_type": "stream",
     "text": [
      "['i', 'will', 'walk', '500', 'mile', 'and', 'i', 'would', 'walk', '500', 'more', ',', 'just', 'to', 'be', 'the', 'man', 'who', 'walk', 'a', 'thousand', 'mile', 'to', 'fall', 'down', 'at', 'your', 'door']\n"
     ]
    }
   ],
   "source": [
    "print(stemmer_tagger)"
   ]
  },
  {
   "cell_type": "code",
   "execution_count": 23,
   "id": "718b8e33-6cc6-4476-b102-7da1e7f872fd",
   "metadata": {},
   "outputs": [],
   "source": [
    "from nltk.stem import SnowballStemmer\n",
    "from collections import Counter\n",
    "from nltk import pos_tag"
   ]
  },
  {
   "cell_type": "code",
   "execution_count": 2,
   "id": "27bc8e21-a0b7-40c5-89cc-72d681cb31ed",
   "metadata": {},
   "outputs": [
    {
     "ename": "NameError",
     "evalue": "name 'nltk' is not defined",
     "output_type": "error",
     "traceback": [
      "\u001b[1;31m---------------------------------------------------------------------------\u001b[0m",
      "\u001b[1;31mNameError\u001b[0m                                 Traceback (most recent call last)",
      "Cell \u001b[1;32mIn[2], line 1\u001b[0m\n\u001b[1;32m----> 1\u001b[0m \u001b[43mnltk\u001b[49m\u001b[38;5;241m.\u001b[39mdownload(\u001b[38;5;124m'\u001b[39m\u001b[38;5;124maveraged_perceptron_tagger\u001b[39m\u001b[38;5;124m'\u001b[39m)\n",
      "\u001b[1;31mNameError\u001b[0m: name 'nltk' is not defined"
     ]
    }
   ],
   "source": [
    "nltk.download('averaged_perceptron_tagger')"
   ]
  },
  {
   "cell_type": "code",
   "execution_count": 25,
   "id": "a02bd3ff-9c7b-4b33-99d4-fb315dc5ebe3",
   "metadata": {},
   "outputs": [],
   "source": [
    "count_dist={}"
   ]
  },
  {
   "cell_type": "code",
   "execution_count": 26,
   "id": "e7779c10-840d-4bf1-9e89-5b683393f3c4",
   "metadata": {},
   "outputs": [],
   "source": [
    "for word in stemmer_tagger:\n",
    "    if word in count_dist:\n",
    "        count_dist[word]+=1\n",
    "    else:\n",
    "        count_dist[word]=1"
   ]
  },
  {
   "cell_type": "code",
   "execution_count": 27,
   "id": "4ca1b63f-1405-435e-9cb8-ba5b51e0c0a7",
   "metadata": {},
   "outputs": [
    {
     "name": "stdout",
     "output_type": "stream",
     "text": [
      "{'i': 2, 'will': 1, 'walk': 3, '500': 2, 'mile': 2, 'and': 1, 'would': 1, 'more': 1, ',': 1, 'just': 1, 'to': 2, 'be': 1, 'the': 1, 'man': 1, 'who': 1, 'a': 1, 'thousand': 1, 'fall': 1, 'down': 1, 'at': 1, 'your': 1, 'door': 1}\n"
     ]
    }
   ],
   "source": [
    "print(count_dist)"
   ]
  },
  {
   "cell_type": "code",
   "execution_count": 28,
   "id": "e73af1a5-fd92-4ebe-a3ca-a6593e283d29",
   "metadata": {},
   "outputs": [
    {
     "name": "stdout",
     "output_type": "stream",
     "text": [
      "[('i', 'NN'), ('will', 'MD'), ('walk', 'VB'), ('500', 'CD'), ('mile', 'NN'), ('and', 'CC'), ('i', 'NN'), ('would', 'MD'), ('walk', 'VB'), ('500', 'CD'), ('more', 'JJR'), (',', ','), ('just', 'RB'), ('to', 'TO'), ('be', 'VB'), ('the', 'DT'), ('man', 'NN'), ('who', 'WP'), ('walk', 'VBP'), ('a', 'DT'), ('thousand', 'NN'), ('mile', 'NN'), ('to', 'TO'), ('fall', 'VB'), ('down', 'RP'), ('at', 'IN'), ('your', 'PRP$'), ('door', 'NN')]\n"
     ]
    }
   ],
   "source": [
    "pos_tagger=pos_tag(stemmer_tagger)\n",
    "print(pos_tagger)"
   ]
  },
  {
   "cell_type": "code",
   "execution_count": 30,
   "id": "10b74560-a2f9-41a2-b884-9eb334c96239",
   "metadata": {},
   "outputs": [
    {
     "name": "stdout",
     "output_type": "stream",
     "text": [
      "Counter({'NN': 7, 'VB': 4, 'MD': 2, 'CD': 2, 'TO': 2, 'DT': 2, 'CC': 1, 'JJR': 1, ',': 1, 'RB': 1, 'WP': 1, 'VBP': 1, 'RP': 1, 'IN': 1, 'PRP$': 1})\n"
     ]
    }
   ],
   "source": [
    "count=Counter(tag for __,tag in pos_tagger)\n",
    "print(count)"
   ]
  },
  {
   "cell_type": "code",
   "execution_count": null,
   "id": "12a00394-a46d-4fc0-9bd2-24d0f46dc834",
   "metadata": {},
   "outputs": [],
   "source": []
  }
 ],
 "metadata": {
  "kernelspec": {
   "display_name": "Python 3 (ipykernel)",
   "language": "python",
   "name": "python3"
  },
  "language_info": {
   "codemirror_mode": {
    "name": "ipython",
    "version": 3
   },
   "file_extension": ".py",
   "mimetype": "text/x-python",
   "name": "python",
   "nbconvert_exporter": "python",
   "pygments_lexer": "ipython3",
   "version": "3.12.0"
  }
 },
 "nbformat": 4,
 "nbformat_minor": 5
}
