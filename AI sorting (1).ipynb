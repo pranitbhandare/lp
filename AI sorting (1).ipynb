{
 "cells": [
  {
   "cell_type": "code",
   "execution_count": 4,
   "id": "cc0b54d8-0b0f-450d-9dca-b5ed5463609c",
   "metadata": {},
   "outputs": [
    {
     "name": "stdin",
     "output_type": "stream",
     "text": [
      "Entre the no of arr element: 2 1 3 4 5\n"
     ]
    },
    {
     "name": "stdout",
     "output_type": "stream",
     "text": [
      "\n",
      "Original Array is:\n",
      "1)Bubble sort\n",
      "2)Selection Sort\n",
      "3)Insertion Sort\n",
      "4)Exit\n"
     ]
    },
    {
     "name": "stdin",
     "output_type": "stream",
     "text": [
      "Entre the of choice:- 1\n"
     ]
    },
    {
     "name": "stdout",
     "output_type": "stream",
     "text": [
      "Sorted Array is:- [1, 2, 3, 4, 5]\n",
      "\n",
      "Original Array is:\n",
      "1)Bubble sort\n",
      "2)Selection Sort\n",
      "3)Insertion Sort\n",
      "4)Exit\n"
     ]
    },
    {
     "name": "stdin",
     "output_type": "stream",
     "text": [
      "Entre the of choice:- 2\n"
     ]
    },
    {
     "name": "stdout",
     "output_type": "stream",
     "text": [
      "Sorted Array is:- [1, 2, 3, 4, 5]\n",
      "\n",
      "Original Array is:\n",
      "1)Bubble sort\n",
      "2)Selection Sort\n",
      "3)Insertion Sort\n",
      "4)Exit\n"
     ]
    },
    {
     "name": "stdin",
     "output_type": "stream",
     "text": [
      "Entre the of choice:- 3\n"
     ]
    },
    {
     "name": "stdout",
     "output_type": "stream",
     "text": [
      "Sorted Array is:- [1, 2, 3, 4, 5]\n",
      "\n",
      "Original Array is:\n",
      "1)Bubble sort\n",
      "2)Selection Sort\n",
      "3)Insertion Sort\n",
      "4)Exit\n"
     ]
    },
    {
     "name": "stdin",
     "output_type": "stream",
     "text": [
      "Entre the of choice:- 4\n"
     ]
    },
    {
     "name": "stdout",
     "output_type": "stream",
     "text": [
      "Exixtising!!!\n"
     ]
    }
   ],
   "source": [
    "def bubble_sort(arr):\n",
    "    n=len(arr)\n",
    "    for i in range(n):\n",
    "        for j in range(0,n-1-i):\n",
    "            if arr[j]>arr[j+1]:\n",
    "                arr[j],arr[j+1]=arr[j+1],arr[j]\n",
    "\n",
    "\n",
    "def selection_sort(arr):\n",
    "    n=len(arr)\n",
    "    for i in range(n):\n",
    "        \n",
    "        min_index=i\n",
    "    for j in range(i+1,n):\n",
    "        if arr[j]<arr[min_index]:\n",
    "            min_index=j\n",
    "            arr[i],arr[min_index]=arr[min_index],arr[i]\n",
    "\n",
    "def insertion_sort(arr):\n",
    "    n=len(arr)\n",
    "    for i in range(1,n):\n",
    "        key=arr[i]\n",
    "        j=i-1\n",
    "        while j>=0 and key<arr[j]:\n",
    "            arr[j+1]=arr[j]\n",
    "            j-=1\n",
    "            arr[j+1]=key\n",
    "\n",
    "def sort_switch(arr,choice):\n",
    "    if choice==1:\n",
    "        bubble_sort(arr)\n",
    "    elif choice==2:\n",
    "        selection_sort(arr)\n",
    "    elif choice==3:\n",
    "        insertion_sort(arr)\n",
    "    else:\n",
    "        print(\"Invalide Choice!!!\")\n",
    "\n",
    "arr=list(map(int,input(\"Entre the no of arr element:\").split()))\n",
    "while True:\n",
    "    print(\"\\nOriginal Array is:\")\n",
    "    print(\"1)Bubble sort\")\n",
    "    print(\"2)Selection Sort\")\n",
    "    print(\"3)Insertion Sort\")\n",
    "    print(\"4)Exit\")\n",
    "\n",
    "    choice=int(input(\"Entre the of choice:-\"))\n",
    "    if choice==4:\n",
    "        print(\"Exixtising!!!\")\n",
    "        break\n",
    "    sort_switch(arr,choice)\n",
    "    print(\"Sorted Array is:-\",arr)\n",
    "\n"
   ]
  },
  {
   "cell_type": "code",
   "execution_count": 9,
   "id": "79c89e60-69fb-496a-8abc-e50b1688a46a",
   "metadata": {},
   "outputs": [
    {
     "name": "stdout",
     "output_type": "stream",
     "text": [
      "Entre the no of Disc:\n"
     ]
    },
    {
     "name": "stdin",
     "output_type": "stream",
     "text": [
      " 3\n"
     ]
    },
    {
     "name": "stdout",
     "output_type": "stream",
     "text": [
      "Move Disc 1 from 1 to 3\n",
      "Move Disc 2 from 1 to 2\n",
      "Move Disc 1 from 3 to 2\n",
      "Move Disc 3 from 1 to 3\n",
      "Move Disc 1 from 2 to 1\n",
      "Move Disc 2 from 2 to 3\n",
      "Move Disc 1 from 1 to 3\n"
     ]
    }
   ],
   "source": [
    "def tower_of_hanoi(n,A,B,C):\n",
    "    if (n==1):\n",
    "        print(f\"Move Disc {n} from {A} to {C}\")\n",
    "        return\n",
    "    tower_of_hanoi(n-1,A,C,B)\n",
    "    print(f\"Move Disc {n} from {A} to {C}\")\n",
    "    tower_of_hanoi(n-1,B,A,C)\n",
    "\n",
    "if __name__ == \"__main__\":\n",
    "    print(\"Entre the no of Disc:\")\n",
    "    n=int(input())\n",
    "    A=1\n",
    "    B=2\n",
    "    C=3\n",
    "    tower_of_hanoi(n,A,B,C)"
   ]
  },
  {
   "cell_type": "markdown",
   "id": "b921e220-8a73-4011-80cd-1c523f49cae3",
   "metadata": {},
   "source": [
    " def PrintBoard(xState,oState):\n",
    "    zero= \"X\"if xState[0] else(\"O\" if oState[0] else 0)\n",
    "    one= \"X\"if xState[1] else(\"O\" if oState[1] else 1)\n",
    "    two= \"X\"if xState[2] else(\"O\" if oState[2] else 2)\n",
    "    three= \"X\"if xState[3] else(\"O\" if oState[3] else 3)\n",
    "    four= \"X\"if xState[4] else(\"O\" if oState[4] else 4)\n",
    "    five= \"X\"if xState[5] else(\"O\" if oState[5] else 5)\n",
    "    six= \"X\"if xState[6] else(\"O\" if oState[6] else 6)\n",
    "    seven= \"X\"if xState[7] else(\"O\" if oState[7] else 7)\n",
    "    eight= \"X\"if xState[8] else(\"O\" if oState[8] else 8)\n",
    "    print(f\"{zero} | {one} | {two}\")\n",
    "    print(f\"---|---|---\")\n",
    "    print(f\"{three} | {four} | {five}\")\n",
    "    print(f\"---|---|---\")\n",
    "    print(f\"{six} | {seven} | {eight}\")\n",
    "\n",
    "def sum(a,b,c):\n",
    "    return a+b+c\n",
    "def checkwin(xState,oState):\n",
    "    wins=[[0,1,2],[3,4,5],[6,7,8],[0,4,8],[2,4,6],[2,5,8],[1,4,7]]\n",
    "    for win in wins:\n",
    "        if(sum(xState[win[0]],xState[win[1]],xState[win[2]]==3)):\n",
    "            print(\"Hurray!!,X Won the match\")\n",
    "            return 1\n",
    "        if(sum(oState[win[0]],oState[win[1]],oState[win[2]]==3)):\n",
    "            print(\"Hurray!!,O Won the match\")\n",
    "            return 0\n",
    "        return -1\n",
    "print(\"Welcome TO Tic Tac Toe Game!!!\")\n",
    "xState=[0,0,0,0,0,0,0,0,0]\n",
    "oState=[0,0,0,0,0,0,0,0,0]\n",
    "turn=1\n",
    "while(True):\n",
    "    \n",
    "    PrintBoard(xState,oState)\n",
    "    if(turn==1):\n",
    "        print(\"Chance of X:\")\n",
    "        value=int(input(\"Entre the number:\"))\n",
    "        xState[value]=1\n",
    "    else:\n",
    "        print(\"Chance of O:\")\n",
    "        value=int(input(\"Entre the number:\"))\n",
    "        oState[value]=1\n",
    "    cwin=checkwin(xState,oState)\n",
    "    if(cwin!=-1):\n",
    "        print(\"Match is over!!\")\n",
    "        break\n",
    "    turn=1-turn\n",
    "        \n",
    "    \n",
    "    "
   ]
  },
  {
   "cell_type": "code",
   "execution_count": 18,
   "id": "ea048e04-3331-48ed-9de0-e15edc8129ea",
   "metadata": {},
   "outputs": [
    {
     "name": "stdout",
     "output_type": "stream",
     "text": [
      "Welcome TO Tic Tac Toe Game!!!\n",
      "0 | 1 | 2\n",
      "---|---|---\n",
      "3 | 4 | 5\n",
      "---|---|---\n",
      "6 | 7 | 8\n",
      "Chance of X:\n"
     ]
    },
    {
     "name": "stdin",
     "output_type": "stream",
     "text": [
      "Enter the number: 0\n"
     ]
    },
    {
     "name": "stdout",
     "output_type": "stream",
     "text": [
      "X | 1 | 2\n",
      "---|---|---\n",
      "3 | 4 | 5\n",
      "---|---|---\n",
      "6 | 7 | 8\n",
      "Chance of O:\n"
     ]
    },
    {
     "name": "stdin",
     "output_type": "stream",
     "text": [
      "Enter the number: 3\n"
     ]
    },
    {
     "name": "stdout",
     "output_type": "stream",
     "text": [
      "X | 1 | 2\n",
      "---|---|---\n",
      "O | 4 | 5\n",
      "---|---|---\n",
      "6 | 7 | 8\n",
      "Chance of X:\n"
     ]
    },
    {
     "name": "stdin",
     "output_type": "stream",
     "text": [
      "Enter the number: 1\n"
     ]
    },
    {
     "name": "stdout",
     "output_type": "stream",
     "text": [
      "X | X | 2\n",
      "---|---|---\n",
      "O | 4 | 5\n",
      "---|---|---\n",
      "6 | 7 | 8\n",
      "Chance of O:\n"
     ]
    },
    {
     "name": "stdin",
     "output_type": "stream",
     "text": [
      "Enter the number: 4\n"
     ]
    },
    {
     "name": "stdout",
     "output_type": "stream",
     "text": [
      "X | X | 2\n",
      "---|---|---\n",
      "O | O | 5\n",
      "---|---|---\n",
      "6 | 7 | 8\n",
      "Chance of X:\n"
     ]
    },
    {
     "name": "stdin",
     "output_type": "stream",
     "text": [
      "Enter the number: 2\n"
     ]
    },
    {
     "name": "stdout",
     "output_type": "stream",
     "text": [
      "Hurray!! X Won the match\n",
      "Match is over!!\n"
     ]
    }
   ],
   "source": [
    "def PrintBoard(xState, oState):\n",
    "    zero = \"X\" if xState[0] else (\"O\" if oState[0] else 0)\n",
    "    one = \"X\" if xState[1] else (\"O\" if oState[1] else 1)\n",
    "    two = \"X\" if xState[2] else (\"O\" if oState[2] else 2)\n",
    "    three = \"X\" if xState[3] else (\"O\" if oState[3] else 3)\n",
    "    four = \"X\" if xState[4] else (\"O\" if oState[4] else 4)\n",
    "    five = \"X\" if xState[5] else (\"O\" if oState[5] else 5)\n",
    "    six = \"X\" if xState[6] else (\"O\" if oState[6] else 6)\n",
    "    seven = \"X\" if xState[7] else (\"O\" if oState[7] else 7)\n",
    "    eight = \"X\" if xState[8] else (\"O\" if oState[8] else 8)\n",
    "    print(f\"{zero} | {one} | {two}\")\n",
    "    print(\"---|---|---\")\n",
    "    print(f\"{three} | {four} | {five}\")\n",
    "    print(\"---|---|---\")\n",
    "    print(f\"{six} | {seven} | {eight}\")\n",
    "\n",
    "def sum_custom(a, b, c):\n",
    "    return a + b + c\n",
    "\n",
    "def checkwin(xState, oState):\n",
    "    wins = [[0, 1, 2], [3, 4, 5], [6, 7, 8], [0, 4, 8], [2, 4, 6], [0, 3, 6], [1, 4, 7], [2, 5, 8]]\n",
    "    for win in wins:\n",
    "        if sum_custom(xState[win[0]], xState[win[1]], xState[win[2]]) == 3:\n",
    "            print(\"Hurray!! X Won the match\")\n",
    "            return 1\n",
    "        if sum_custom(oState[win[0]], oState[win[1]], oState[win[2]]) == 3:\n",
    "            print(\"Hurray!! O Won the match\")\n",
    "            return 0\n",
    "    return -1\n",
    "\n",
    "print(\"Welcome TO Tic Tac Toe Game!!!\")\n",
    "xState = [0, 0, 0, 0, 0, 0, 0, 0, 0]\n",
    "oState = [0, 0, 0, 0, 0, 0, 0, 0, 0]\n",
    "turn = 1\n",
    "\n",
    "while True:\n",
    "    PrintBoard(xState, oState)\n",
    "    if turn == 1:\n",
    "        print(\"Chance of X:\")\n",
    "    else:\n",
    "        print(\"Chance of O:\")\n",
    "    value = int(input(\"Enter the number:\"))\n",
    "    if (turn == 1 and xState[value] == 0 and oState[value] == 0):\n",
    "        xState[value] = 1\n",
    "    elif (turn == 0 and xState[value] == 0 and oState[value] == 0):\n",
    "        oState[value] = 1\n",
    "    else:\n",
    "        print(\"Invalid move, try again.\")\n",
    "        continue\n",
    "    cwin = checkwin(xState, oState)\n",
    "    if cwin != -1:\n",
    "        print(\"Match is over!!\")\n",
    "        break\n",
    "    turn = 1 - turn\n"
   ]
  },
  {
   "cell_type": "code",
   "execution_count": null,
   "id": "99140c49-20eb-4f1f-a8ab-a3f91efbd453",
   "metadata": {},
   "outputs": [],
   "source": []
  }
 ],
 "metadata": {
  "kernelspec": {
   "display_name": "Python 3 (ipykernel)",
   "language": "python",
   "name": "python3"
  },
  "language_info": {
   "codemirror_mode": {
    "name": "ipython",
    "version": 3
   },
   "file_extension": ".py",
   "mimetype": "text/x-python",
   "name": "python",
   "nbconvert_exporter": "python",
   "pygments_lexer": "ipython3",
   "version": "3.12.0"
  }
 },
 "nbformat": 4,
 "nbformat_minor": 5
}
